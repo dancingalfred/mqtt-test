{
 "cells": [
  {
   "cell_type": "code",
   "execution_count": 6,
   "metadata": {},
   "outputs": [
    {
     "ename": "ModuleNotFoundError",
     "evalue": "No module named 'pymongo'",
     "output_type": "error",
     "traceback": [
      "\u001b[1;31m---------------------------------------------------------------------------\u001b[0m",
      "\u001b[1;31mModuleNotFoundError\u001b[0m                       Traceback (most recent call last)",
      "Input \u001b[1;32mIn [6]\u001b[0m, in \u001b[0;36m<cell line: 1>\u001b[1;34m()\u001b[0m\n\u001b[1;32m----> 1\u001b[0m \u001b[38;5;28;01mfrom\u001b[39;00m \u001b[38;5;21;01mfunctions\u001b[39;00m \u001b[38;5;28;01mimport\u001b[39;00m generateDfFromMongoDB\n\u001b[0;32m      2\u001b[0m \u001b[38;5;28;01mimport\u001b[39;00m \u001b[38;5;21;01mpymongo\u001b[39;00m\n\u001b[0;32m      3\u001b[0m \u001b[38;5;28;01mfrom\u001b[39;00m \u001b[38;5;21;01mpymongo\u001b[39;00m \u001b[38;5;28;01mimport\u001b[39;00m MongoClient\n",
      "File \u001b[1;32m~\\OneDrive\\Skrivbord\\Programmering\\Python\\Addiva\\mqtt test\\functions.py:1\u001b[0m, in \u001b[0;36m<module>\u001b[1;34m\u001b[0m\n\u001b[1;32m----> 1\u001b[0m \u001b[38;5;28;01mimport\u001b[39;00m \u001b[38;5;21;01mpymongo\u001b[39;00m\n\u001b[0;32m      2\u001b[0m \u001b[38;5;28;01mfrom\u001b[39;00m \u001b[38;5;21;01mpymongo\u001b[39;00m \u001b[38;5;28;01mimport\u001b[39;00m MongoClient\n\u001b[0;32m      3\u001b[0m \u001b[38;5;28;01mfrom\u001b[39;00m \u001b[38;5;21;01mbson\u001b[39;00m\u001b[38;5;21;01m.\u001b[39;00m\u001b[38;5;21;01mobjectid\u001b[39;00m \u001b[38;5;28;01mimport\u001b[39;00m ObjectId\n",
      "\u001b[1;31mModuleNotFoundError\u001b[0m: No module named 'pymongo'"
     ]
    }
   ],
   "source": [
    "from functions import generateDfFromMongoDB\n",
    "import pymongo\n",
    "from pymongo import MongoClient\n",
    "from bson.objectid import ObjectId\n",
    "from datetime import datetime\n",
    "import json\n",
    "import requests\n",
    "import pandas as pd"
   ]
  },
  {
   "cell_type": "code",
   "execution_count": 2,
   "metadata": {},
   "outputs": [],
   "source": [
    "host = \"mongodb://localhost\"\n",
    "port = 27017\n",
    "db = \"20221114\"\n",
    "collection = \"sensordata\"\n",
    "query = {}\n",
    "resultsLimit = 80000\n",
    "\n",
    "df = generateDfFromMongoDB(host, collection, port, db, resultsLimit)"
   ]
  },
  {
   "cell_type": "code",
   "execution_count": 3,
   "metadata": {},
   "outputs": [
    {
     "data": {
      "text/html": [
       "<div>\n",
       "<style scoped>\n",
       "    .dataframe tbody tr th:only-of-type {\n",
       "        vertical-align: middle;\n",
       "    }\n",
       "\n",
       "    .dataframe tbody tr th {\n",
       "        vertical-align: top;\n",
       "    }\n",
       "\n",
       "    .dataframe thead th {\n",
       "        text-align: right;\n",
       "    }\n",
       "</style>\n",
       "<table border=\"1\" class=\"dataframe\">\n",
       "  <thead>\n",
       "    <tr style=\"text-align: right;\">\n",
       "      <th></th>\n",
       "      <th>_id</th>\n",
       "      <th>Sensor address</th>\n",
       "      <th>sensor_id</th>\n",
       "      <th>humidity</th>\n",
       "      <th>temperature</th>\n",
       "      <th>vdd</th>\n",
       "      <th>waterleak</th>\n",
       "      <th>time</th>\n",
       "      <th>outside temperature (TF)</th>\n",
       "      <th>outside relativeHumidity (TF)</th>\n",
       "      <th>precipitation (TF)</th>\n",
       "      <th>precipitation type (TF)</th>\n",
       "      <th>light</th>\n",
       "      <th>motion</th>\n",
       "    </tr>\n",
       "  </thead>\n",
       "  <tbody>\n",
       "    <tr>\n",
       "      <th>0</th>\n",
       "      <td>63728011caf3517df237c199</td>\n",
       "      <td>Matsal Addiva Sigurdsgatan</td>\n",
       "      <td>eui-a81758fffe075c91</td>\n",
       "      <td>36</td>\n",
       "      <td>21.9</td>\n",
       "      <td>3624</td>\n",
       "      <td>0.0</td>\n",
       "      <td>2022/11/14, 18:51:13</td>\n",
       "      <td>6.8</td>\n",
       "      <td>98.7</td>\n",
       "      <td>0.0</td>\n",
       "      <td>Ingen nederbörd</td>\n",
       "      <td>NaN</td>\n",
       "      <td>NaN</td>\n",
       "    </tr>\n",
       "    <tr>\n",
       "      <th>1</th>\n",
       "      <td>63728011caf3517df237c19a</td>\n",
       "      <td>Pingisrum Addiva Sigurdsgatan</td>\n",
       "      <td>eui-a81758fffe075b65</td>\n",
       "      <td>37</td>\n",
       "      <td>22.2</td>\n",
       "      <td>3629</td>\n",
       "      <td>0.0</td>\n",
       "      <td>2022/11/14, 18:51:13</td>\n",
       "      <td>6.8</td>\n",
       "      <td>98.7</td>\n",
       "      <td>0.0</td>\n",
       "      <td>Ingen nederbörd</td>\n",
       "      <td>NaN</td>\n",
       "      <td>NaN</td>\n",
       "    </tr>\n",
       "    <tr>\n",
       "      <th>2</th>\n",
       "      <td>637280a2caf3517df237c19b</td>\n",
       "      <td>Skrivbord Addiva Sigurdsgatan</td>\n",
       "      <td>eui-a81758fffe075b66</td>\n",
       "      <td>36</td>\n",
       "      <td>22.3</td>\n",
       "      <td>3633</td>\n",
       "      <td>0.0</td>\n",
       "      <td>2022/11/14, 18:53:38</td>\n",
       "      <td>6.8</td>\n",
       "      <td>98.7</td>\n",
       "      <td>0.0</td>\n",
       "      <td>Ingen nederbörd</td>\n",
       "      <td>NaN</td>\n",
       "      <td>NaN</td>\n",
       "    </tr>\n",
       "    <tr>\n",
       "      <th>3</th>\n",
       "      <td>637280a2caf3517df237c19c</td>\n",
       "      <td>Madelens skrivbord Addiva Sigurdsgatan</td>\n",
       "      <td>eui-a81758fffe075b67</td>\n",
       "      <td>29</td>\n",
       "      <td>25.9</td>\n",
       "      <td>3636</td>\n",
       "      <td>0.0</td>\n",
       "      <td>2022/11/14, 18:53:38</td>\n",
       "      <td>6.8</td>\n",
       "      <td>98.7</td>\n",
       "      <td>0.0</td>\n",
       "      <td>Ingen nederbörd</td>\n",
       "      <td>NaN</td>\n",
       "      <td>NaN</td>\n",
       "    </tr>\n",
       "    <tr>\n",
       "      <th>4</th>\n",
       "      <td>6372848c679d686ec9534093</td>\n",
       "      <td>Madelens skrivbord Addiva Sigurdsgatan</td>\n",
       "      <td>eui-a81758fffe075b67</td>\n",
       "      <td>29</td>\n",
       "      <td>25.8</td>\n",
       "      <td>3636</td>\n",
       "      <td>0.0</td>\n",
       "      <td>2022/11/14, 19:10:20</td>\n",
       "      <td>6.8</td>\n",
       "      <td>98.7</td>\n",
       "      <td>0.0</td>\n",
       "      <td>Ingen nederbörd</td>\n",
       "      <td>NaN</td>\n",
       "      <td>NaN</td>\n",
       "    </tr>\n",
       "  </tbody>\n",
       "</table>\n",
       "</div>"
      ],
      "text/plain": [
       "                        _id                          Sensor address  \\\n",
       "0  63728011caf3517df237c199              Matsal Addiva Sigurdsgatan   \n",
       "1  63728011caf3517df237c19a           Pingisrum Addiva Sigurdsgatan   \n",
       "2  637280a2caf3517df237c19b           Skrivbord Addiva Sigurdsgatan   \n",
       "3  637280a2caf3517df237c19c  Madelens skrivbord Addiva Sigurdsgatan   \n",
       "4  6372848c679d686ec9534093  Madelens skrivbord Addiva Sigurdsgatan   \n",
       "\n",
       "              sensor_id  humidity  temperature   vdd  waterleak  \\\n",
       "0  eui-a81758fffe075c91        36         21.9  3624        0.0   \n",
       "1  eui-a81758fffe075b65        37         22.2  3629        0.0   \n",
       "2  eui-a81758fffe075b66        36         22.3  3633        0.0   \n",
       "3  eui-a81758fffe075b67        29         25.9  3636        0.0   \n",
       "4  eui-a81758fffe075b67        29         25.8  3636        0.0   \n",
       "\n",
       "                   time  outside temperature (TF)  \\\n",
       "0  2022/11/14, 18:51:13                       6.8   \n",
       "1  2022/11/14, 18:51:13                       6.8   \n",
       "2  2022/11/14, 18:53:38                       6.8   \n",
       "3  2022/11/14, 18:53:38                       6.8   \n",
       "4  2022/11/14, 19:10:20                       6.8   \n",
       "\n",
       "   outside relativeHumidity (TF) precipitation (TF) precipitation type (TF)  \\\n",
       "0                           98.7                0.0         Ingen nederbörd   \n",
       "1                           98.7                0.0         Ingen nederbörd   \n",
       "2                           98.7                0.0         Ingen nederbörd   \n",
       "3                           98.7                0.0         Ingen nederbörd   \n",
       "4                           98.7                0.0         Ingen nederbörd   \n",
       "\n",
       "   light  motion  \n",
       "0    NaN     NaN  \n",
       "1    NaN     NaN  \n",
       "2    NaN     NaN  \n",
       "3    NaN     NaN  \n",
       "4    NaN     NaN  "
      ]
     },
     "execution_count": 3,
     "metadata": {},
     "output_type": "execute_result"
    }
   ],
   "source": [
    "df.head()"
   ]
  },
  {
   "cell_type": "code",
   "execution_count": 4,
   "metadata": {},
   "outputs": [
    {
     "data": {
      "text/plain": [
       "(7996, 14)"
      ]
     },
     "execution_count": 4,
     "metadata": {},
     "output_type": "execute_result"
    }
   ],
   "source": [
    "df.shape"
   ]
  },
  {
   "cell_type": "code",
   "execution_count": null,
   "metadata": {},
   "outputs": [],
   "source": []
  },
  {
   "cell_type": "code",
   "execution_count": null,
   "metadata": {},
   "outputs": [],
   "source": []
  },
  {
   "cell_type": "code",
   "execution_count": null,
   "metadata": {},
   "outputs": [],
   "source": []
  }
 ],
 "metadata": {
  "kernelspec": {
   "display_name": "Python 3 (ipykernel)",
   "language": "python",
   "name": "python3"
  },
  "language_info": {
   "codemirror_mode": {
    "name": "ipython",
    "version": 3
   },
   "file_extension": ".py",
   "mimetype": "text/x-python",
   "name": "python",
   "nbconvert_exporter": "python",
   "pygments_lexer": "ipython3",
   "version": "3.9.7"
  },
  "vscode": {
   "interpreter": {
    "hash": "77d578b61719f71beca7a4c5842d04f99f0a25eafff2e324d8a7f07309cc5bcb"
   }
  }
 },
 "nbformat": 4,
 "nbformat_minor": 2
}
