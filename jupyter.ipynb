{
 "cells": [
  {
   "cell_type": "code",
   "execution_count": 1,
   "metadata": {},
   "outputs": [],
   "source": [
    "import paho.mqtt.client as mqtt #import the client\n",
    "import paho.mqtt.subscribe as subscribe\n",
    "import time\n",
    "from datetime import datetime\n",
    "import json\n",
    "import pymongo\n",
    "\n",
    "from bson.objectid import ObjectId\n",
    "\n",
    "myclient = pymongo.MongoClient(\"mongodb://localhost:27017/\")\n",
    "\n",
    "\n",
    "#en funktion som adderar valt information till databasen\n",
    "def addDocumentToDatabase(databaseToAddTo:str, collectionToAddTo:str , documentToAddToDatabase:dict):\n",
    "    database = myclient[databaseToAddTo]\n",
    "    collection = database[collectionToAddTo]\n",
    "    collection.insert_one(documentToAddToDatabase)"
   ]
  },
  {
   "cell_type": "code",
   "execution_count": 2,
   "metadata": {},
   "outputs": [],
   "source": [
    "myclient = pymongo.MongoClient(\"mongodb://localhost:27017/\")\n",
    "\n",
    "mydb = myclient[\"testData\"]\n",
    "mycol = mydb[\"sensordata\"]\n",
    "\n",
    "m = subscribe.simple(topics=['#'], hostname=\"eu1.cloud.thethings.network\", port=1883, auth={'username':\"ap-addiva-01@ttn\",'password':\"NNSXS.GB7LQUCAHNXYDZ65KIS4FV2JDQYVJMYK42DBT2Q.CJ3VVVVKOPIYACEXK45WK6XPTL2QIGC6DIL6JZ2YK3OHLMAEEC7Q\"}, msg_count=2)"
   ]
  },
  {
   "cell_type": "code",
   "execution_count": 3,
   "metadata": {},
   "outputs": [
    {
     "name": "stdout",
     "output_type": "stream",
     "text": [
      "---------------------------TOPIC-START----------------------------\n",
      "v3/ap-addiva-01@ttn/devices/eui-a81758fffe075b66/up\n",
      "---------------------------TOPIC-END----------------------------\n",
      "---------------------------PAYLOAD-START----------------------------\n",
      "b'{\"end_device_ids\":{\"device_id\":\"eui-a81758fffe075b66\",\"application_ids\":{\"application_id\":\"ap-addiva-01\"},\"dev_eui\":\"A81758FFFE075B66\",\"join_eui\":\"0000000000000000\",\"dev_addr\":\"260B7CBF\"},\"correlation_ids\":[\"as:up:01GF2VWWG8TYT28X1WQ0REK7JE\",\"gs:conn:01GF2N1DC1WH718809DF6YZK7T\",\"gs:up:host:01GF2N1DC9H01SRWBBT65CQTXN\",\"gs:uplink:01GF2VWW9P57M3VHJ43TYYFR5R\",\"ns:uplink:01GF2VWW9PZ6SV8JSP1FCMRPF5\",\"rpc:/ttn.lorawan.v3.GsNs/HandleUplink:01GF2VWW9PYDXS4WPW192N1BAF\",\"rpc:/ttn.lorawan.v3.NsAs/HandleUplink:01GF2VWWG8RH3QAN9QKZ4KJPBH\"],\"received_at\":\"2022-10-11T06:32:16.136355031Z\",\"uplink_message\":{\"session_key_id\":\"AYPB0ECOhnp1uMUPjFkrxw==\",\"f_port\":5,\"f_cnt\":941,\"frm_payload\":\"AQDiAiMHDicSAA==\",\"decoded_payload\":{\"humidity\":35,\"temperature\":22.6,\"vdd\":3623,\"waterleak\":0},\"rx_metadata\":[{\"gateway_ids\":{\"gateway_id\":\"rg1xx2965f5\",\"eui\":\"C0EE40FFFF2965F5\"},\"time\":\"2022-10-11T06:32:15.869662046Z\",\"timestamp\":2895799675,\"rssi\":-57,\"channel_rssi\":-57,\"snr\":9,\"location\":{\"latitude\":59.605889553757784,\"longitude\":16.552834510803226,\"altitude\":10,\"source\":\"SOURCE_REGISTRY\"},\"uplink_token\":\"ChkKFwoLcmcxeHgyOTY1ZjUSCMDuQP//KWX1EPvK6eQKGgwI75uUmgYQ5L7MuQMg+NDx2KPRAQ==\",\"received_at\":\"2022-10-11T06:32:15.906279833Z\"}],\"settings\":{\"data_rate\":{\"lora\":{\"bandwidth\":125000,\"spreading_factor\":7,\"coding_rate\":\"4/5\"}},\"frequency\":\"868100000\",\"timestamp\":2895799675,\"time\":\"2022-10-11T06:32:15.869662046Z\"},\"received_at\":\"2022-10-11T06:32:15.926944319Z\",\"confirmed\":true,\"consumed_airtime\":\"0.061696s\",\"locations\":{\"user\":{\"latitude\":59.60599410588323,\"longitude\":16.552834510803226,\"source\":\"SOURCE_REGISTRY\"}},\"version_ids\":{\"brand_id\":\"elsys\",\"model_id\":\"ems-lite\",\"hardware_version\":\"1.0\",\"firmware_version\":\"1.0\",\"band_id\":\"EU_863_870\"},\"network_ids\":{\"net_id\":\"000013\",\"tenant_id\":\"ttn\",\"cluster_id\":\"eu1\",\"cluster_address\":\"eu1.cloud.thethings.network\"}}}'\n",
      "{\"humidity\":35,\"temperature\":22.6,\"vdd\":3623,\"waterleak\":0}\n",
      "2022/10/11, 08:35:42\n",
      "---------------------------PAYLOAD-END----------------------------\n",
      "{'Sensor address': 'Addiva Test Sigurdsgatan', 'humidity': 35, 'temperature': 22.6, 'vdd': 3623, 'waterleak': 0, 'time': '2022/10/11, 08:35:42', '_id': ObjectId('63450ebe90a815d6cabd32ee')}\n",
      "---------------------------TOPIC-START----------------------------\n",
      "v3/ap-addiva-01@ttn/devices/eui-a81758fffe075b66/up\n",
      "---------------------------TOPIC-END----------------------------\n",
      "---------------------------PAYLOAD-START----------------------------\n",
      "b'{\"end_device_ids\":{\"device_id\":\"eui-a81758fffe075b66\",\"application_ids\":{\"application_id\":\"ap-addiva-01\"},\"dev_eui\":\"A81758FFFE075B66\",\"join_eui\":\"0000000000000000\",\"dev_addr\":\"260B7CBF\"},\"correlation_ids\":[\"as:up:01GF2VZ0VTX9XAFW302JNRGZ2N\",\"gs:conn:01GF2N1DC1WH718809DF6YZK7T\",\"gs:up:host:01GF2N1DC9H01SRWBBT65CQTXN\",\"gs:uplink:01GF2VZ0NC4PW9APPZYM0M8TQ7\",\"ns:uplink:01GF2VZ0ND22K6QCBH4FHE59MM\",\"rpc:/ttn.lorawan.v3.GsNs/HandleUplink:01GF2VZ0ND8JYZHRSJWNJH57EC\",\"rpc:/ttn.lorawan.v3.NsAs/HandleUplink:01GF2VZ0VS9D608W3VS5NJG5FE\"],\"received_at\":\"2022-10-11T06:33:26.138030136Z\",\"uplink_message\":{\"session_key_id\":\"AYPB0ECOhnp1uMUPjFkrxw==\",\"f_port\":5,\"f_cnt\":942,\"frm_payload\":\"AQDiAiMHDicSAA==\",\"decoded_payload\":{\"humidity\":35,\"temperature\":22.6,\"vdd\":3623,\"waterleak\":0},\"rx_metadata\":[{\"gateway_ids\":{\"gateway_id\":\"rg1xx2965f5\",\"eui\":\"C0EE40FFFF2965F5\"},\"time\":\"2022-10-11T06:33:25.888335943Z\",\"timestamp\":2965795924,\"rssi\":-55,\"channel_rssi\":-55,\"snr\":9.75,\"location\":{\"latitude\":59.605889553757784,\"longitude\":16.552834510803226,\"altitude\":10,\"source\":\"SOURCE_REGISTRY\"},\"uplink_token\":\"ChkKFwoLcmcxeHgyOTY1ZjUSCMDuQP//KWX1ENTomYYLGgwItZyUmgYQidvhvAMgoNDZuajTAQ==\",\"received_at\":\"2022-10-11T06:33:25.912897349Z\"}],\"settings\":{\"data_rate\":{\"lora\":{\"bandwidth\":125000,\"spreading_factor\":7,\"coding_rate\":\"4/5\"}},\"frequency\":\"867900000\",\"timestamp\":2965795924,\"time\":\"2022-10-11T06:33:25.888335943Z\"},\"received_at\":\"2022-10-11T06:33:25.933651342Z\",\"confirmed\":true,\"consumed_airtime\":\"0.061696s\",\"locations\":{\"user\":{\"latitude\":59.60599410588323,\"longitude\":16.552834510803226,\"source\":\"SOURCE_REGISTRY\"}},\"version_ids\":{\"brand_id\":\"elsys\",\"model_id\":\"ems-lite\",\"hardware_version\":\"1.0\",\"firmware_version\":\"1.0\",\"band_id\":\"EU_863_870\"},\"network_ids\":{\"net_id\":\"000013\",\"tenant_id\":\"ttn\",\"cluster_id\":\"eu1\",\"cluster_address\":\"eu1.cloud.thethings.network\"}}}'\n",
      "{\"humidity\":35,\"temperature\":22.6,\"vdd\":3623,\"waterleak\":0}\n",
      "2022/10/11, 08:35:42\n",
      "---------------------------PAYLOAD-END----------------------------\n",
      "{'Sensor address': 'Addiva Test Sigurdsgatan', 'humidity': 35, 'temperature': 22.6, 'vdd': 3623, 'waterleak': 0, 'time': '2022/10/11, 08:35:42', '_id': ObjectId('63450ebe90a815d6cabd32ef')}\n"
     ]
    }
   ],
   "source": [
    "now = datetime.now()\n",
    "\n",
    "for a in m:\n",
    "    print(\"---------------------------TOPIC-START----------------------------\")\n",
    "    print(a.topic)\n",
    "    print(\"---------------------------TOPIC-END----------------------------\")\n",
    "    print(\"---------------------------PAYLOAD-START----------------------------\")\n",
    "    print(a.payload)\n",
    "\n",
    "\n",
    "    document = str(a.payload)\n",
    "    document = document[717:776] \n",
    "    #document = \"{\" + document + \"}\"\n",
    "    print(document)\n",
    "    dateAndTime = now.strftime(\"%Y/%m/%d, %H:%M:%S\")\n",
    "    print(dateAndTime)\n",
    "    \n",
    "    document = json.loads(document)\n",
    "    document[\"time\"] = str(dateAndTime)\n",
    "\n",
    "    fixed_dictionary = {\"Sensor address\": \"Addiva Test Sigurdsgatan\"}\n",
    "    fixed_dictionary.update(document)\n",
    "    \n",
    "\n",
    "    addDocumentToDatabase(\"testData\", \"sensordata\", fixed_dictionary)\n",
    "    print(\"---------------------------PAYLOAD-END----------------------------\")\n",
    "    #client.loop_stop() #stop the loop\n",
    "    print(fixed_dictionary)"
   ]
  },
  {
   "cell_type": "code",
   "execution_count": null,
   "metadata": {},
   "outputs": [],
   "source": []
  }
 ],
 "metadata": {
  "kernelspec": {
   "display_name": "Python 3.9.7 ('evn': venv)",
   "language": "python",
   "name": "python3"
  },
  "language_info": {
   "codemirror_mode": {
    "name": "ipython",
    "version": 3
   },
   "file_extension": ".py",
   "mimetype": "text/x-python",
   "name": "python",
   "nbconvert_exporter": "python",
   "pygments_lexer": "ipython3",
   "version": "3.9.7"
  },
  "orig_nbformat": 4,
  "vscode": {
   "interpreter": {
    "hash": "77d578b61719f71beca7a4c5842d04f99f0a25eafff2e324d8a7f07309cc5bcb"
   }
  }
 },
 "nbformat": 4,
 "nbformat_minor": 2
}
