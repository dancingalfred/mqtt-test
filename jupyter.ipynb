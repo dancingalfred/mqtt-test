{
 "cells": [
  {
   "cell_type": "code",
   "execution_count": 20,
   "metadata": {},
   "outputs": [],
   "source": [
    "import paho.mqtt.client as mqtt #import the client\n",
    "import paho.mqtt.subscribe as subscribe\n",
    "import time\n",
    "from datetime import datetime\n",
    "\n",
    "import pymongo\n",
    "import json\n",
    "from bson.objectid import ObjectId\n",
    "\n",
    "myclient = pymongo.MongoClient(\"mongodb://localhost:27017/\")\n",
    "\n",
    "\n",
    "#en funktion som adderar valt information till databasen\n",
    "def addDocumentToDatabase(databaseToAddTo:str, collectionToAddTo:str , documentToAddToDatabase:dict):\n",
    "    database = myclient[databaseToAddTo]\n",
    "    collection = database[collectionToAddTo]\n",
    "    collection.insert_one(documentToAddToDatabase)"
   ]
  },
  {
   "cell_type": "code",
   "execution_count": 2,
   "metadata": {},
   "outputs": [],
   "source": [
    "myclient = pymongo.MongoClient(\"mongodb://localhost:27017/\")\n",
    "\n",
    "mydb = myclient[\"testData\"]\n",
    "mycol = mydb[\"sensordata\"]\n",
    "\n",
    "m = subscribe.simple(topics=['#'], hostname=\"eu1.cloud.thethings.network\", port=1883, auth={'username':\"ap-addiva-01@ttn\",'password':\"NNSXS.GB7LQUCAHNXYDZ65KIS4FV2JDQYVJMYK42DBT2Q.CJ3VVVVKOPIYACEXK45WK6XPTL2QIGC6DIL6JZ2YK3OHLMAEEC7Q\"}, msg_count=2)"
   ]
  },
  {
   "cell_type": "code",
   "execution_count": 30,
   "metadata": {},
   "outputs": [
    {
     "name": "stdout",
     "output_type": "stream",
     "text": [
      "---------------------------TOPIC-START----------------------------\n",
      "v3/ap-addiva-01@ttn/devices/eui-a81758fffe075b66/up\n",
      "---------------------------TOPIC-END----------------------------\n",
      "---------------------------PAYLOAD-START----------------------------\n",
      "b'{\"end_device_ids\":{\"device_id\":\"eui-a81758fffe075b66\",\"application_ids\":{\"application_id\":\"ap-addiva-01\"},\"dev_eui\":\"A81758FFFE075B66\",\"join_eui\":\"0000000000000000\",\"dev_addr\":\"260B7CBF\"},\"correlation_ids\":[\"as:up:01GF1JMRND4E89TKTMH91DCT7V\",\"gs:conn:01GF1A3Z5DG2K52WS2CPWPEHAD\",\"gs:up:host:01GF1A3Z5NF76SA24CFHD24QBY\",\"gs:uplink:01GF1JMRESR9SNSNH2V6CW6307\",\"ns:uplink:01GF1JMRESSX2WBD0R19CRY4TX\",\"rpc:/ttn.lorawan.v3.GsNs/HandleUplink:01GF1JMRESQM63CE1A15M2T62V\",\"rpc:/ttn.lorawan.v3.NsAs/HandleUplink:01GF1JMRNDH31GNM7A4Z2T3FNG\"],\"received_at\":\"2022-10-10T18:31:18.445308192Z\",\"uplink_message\":{\"session_key_id\":\"AYPB0ECOhnp1uMUPjFkrxw==\",\"f_port\":5,\"f_cnt\":324,\"frm_payload\":\"AQDoAiUHDicSAA==\",\"decoded_payload\":{\"humidity\":37,\"temperature\":23.2,\"vdd\":3623,\"waterleak\":0},\"rx_metadata\":[{\"gateway_ids\":{\"gateway_id\":\"rg1xx2965f5\",\"eui\":\"C0EE40FFFF2965F5\"},\"time\":\"2022-10-10T18:31:18.181377887Z\",\"timestamp\":348111468,\"rssi\":-66,\"channel_rssi\":-66,\"snr\":9.25,\"location\":{\"latitude\":59.605889553757784,\"longitude\":16.552834510803226,\"altitude\":10,\"source\":\"SOURCE_REGISTRY\"},\"uplink_token\":\"ChkKFwoLcmcxeHgyOTY1ZjUSCMDuQP//KWX1EOyE/6UBGgsI9smRmgYQo+qHbyDg673okIQC\",\"received_at\":\"2022-10-10T18:31:18.211391613Z\"}],\"settings\":{\"data_rate\":{\"lora\":{\"bandwidth\":125000,\"spreading_factor\":7,\"coding_rate\":\"4/5\"}},\"frequency\":\"867700000\",\"timestamp\":348111468,\"time\":\"2022-10-10T18:31:18.181377887Z\"},\"received_at\":\"2022-10-10T18:31:18.233620199Z\",\"confirmed\":true,\"consumed_airtime\":\"0.061696s\",\"locations\":{\"user\":{\"latitude\":59.60599410588323,\"longitude\":16.552834510803226,\"source\":\"SOURCE_REGISTRY\"}},\"version_ids\":{\"brand_id\":\"elsys\",\"model_id\":\"ems-lite\",\"hardware_version\":\"1.0\",\"firmware_version\":\"1.0\",\"band_id\":\"EU_863_870\"},\"network_ids\":{\"net_id\":\"000013\",\"tenant_id\":\"ttn\",\"cluster_id\":\"eu1\",\"cluster_address\":\"eu1.cloud.thethings.network\"}}}'\n",
      "{\"humidity\":37,\"temperature\":23.2,\"vdd\":3623,\"waterleak\":0}\n",
      "2022/10/10, 21:10:54\n",
      "---------------------------PAYLOAD-END----------------------------\n",
      "{'Sensor address': 'Addiva Test Sigurdsgatan', 'humidity': 37, 'temperature': 23.2, 'vdd': 3623, 'waterleak': 0, 'time': '2022/10/10, 21:10:54', '_id': ObjectId('63446e3eb42d5f4d999a9d55')}\n",
      "---------------------------TOPIC-START----------------------------\n",
      "v3/ap-addiva-01@ttn/devices/eui-a81758fffe075b66/up\n",
      "---------------------------TOPIC-END----------------------------\n",
      "---------------------------PAYLOAD-START----------------------------\n",
      "b'{\"end_device_ids\":{\"device_id\":\"eui-a81758fffe075b66\",\"application_ids\":{\"application_id\":\"ap-addiva-01\"},\"dev_eui\":\"A81758FFFE075B66\",\"join_eui\":\"0000000000000000\",\"dev_addr\":\"260B7CBF\"},\"correlation_ids\":[\"as:up:01GF1JPX09ZJ08YHJYA0G2NAS1\",\"gs:conn:01GF1JPN2YZ6S5Z8QCESFYKYJX\",\"gs:up:host:01GF1JPN331APSAAB0V5CNNMJD\",\"gs:uplink:01GF1JPWSVB5D4WGNFSHKPHACW\",\"ns:uplink:01GF1JPWSW7KJM3SB93XY0XDMY\",\"rpc:/ttn.lorawan.v3.GsNs/HandleUplink:01GF1JPWSW5HTMHGG49NYTF0NG\",\"rpc:/ttn.lorawan.v3.NsAs/HandleUplink:01GF1JPX087JW6S81AHW7W93W2\"],\"received_at\":\"2022-10-10T18:32:28.425169583Z\",\"uplink_message\":{\"session_key_id\":\"AYPB0ECOhnp1uMUPjFkrxw==\",\"f_port\":5,\"f_cnt\":325,\"frm_payload\":\"AQDoAiUHDicSAA==\",\"decoded_payload\":{\"humidity\":37,\"temperature\":23.2,\"vdd\":3623,\"waterleak\":0},\"rx_metadata\":[{\"gateway_ids\":{\"gateway_id\":\"rg1xx2965f5\",\"eui\":\"C0EE40FFFF2965F5\"},\"time\":\"2022-10-10T18:32:28.176070928Z\",\"timestamp\":7168308,\"rssi\":-67,\"channel_rssi\":-67,\"snr\":6.75,\"location\":{\"latitude\":59.605889553757784,\"longitude\":16.552834510803226,\"altitude\":10,\"source\":\"SOURCE_REGISTRY\"},\"uplink_token\":\"ChkKFwoLcmcxeHgyOTY1ZjUSCMDuQP//KWX1ELTCtQMaCwi8ypGaBhDZl8RoIKDmjtoa\",\"received_at\":\"2022-10-10T18:32:28.197372288Z\"}],\"settings\":{\"data_rate\":{\"lora\":{\"bandwidth\":125000,\"spreading_factor\":7,\"coding_rate\":\"4/5\"}},\"frequency\":\"867500000\",\"timestamp\":7168308,\"time\":\"2022-10-10T18:32:28.176070928Z\"},\"received_at\":\"2022-10-10T18:32:28.220424548Z\",\"confirmed\":true,\"consumed_airtime\":\"0.061696s\",\"locations\":{\"user\":{\"latitude\":59.60599410588323,\"longitude\":16.552834510803226,\"source\":\"SOURCE_REGISTRY\"}},\"version_ids\":{\"brand_id\":\"elsys\",\"model_id\":\"ems-lite\",\"hardware_version\":\"1.0\",\"firmware_version\":\"1.0\",\"band_id\":\"EU_863_870\"},\"network_ids\":{\"net_id\":\"000013\",\"tenant_id\":\"ttn\",\"cluster_id\":\"eu1\",\"cluster_address\":\"eu1.cloud.thethings.network\"}}}'\n",
      "{\"humidity\":37,\"temperature\":23.2,\"vdd\":3623,\"waterleak\":0}\n",
      "2022/10/10, 21:10:54\n",
      "---------------------------PAYLOAD-END----------------------------\n",
      "{'Sensor address': 'Addiva Test Sigurdsgatan', 'humidity': 37, 'temperature': 23.2, 'vdd': 3623, 'waterleak': 0, 'time': '2022/10/10, 21:10:54', '_id': ObjectId('63446e3eb42d5f4d999a9d56')}\n"
     ]
    }
   ],
   "source": [
    "now = datetime.now()\n",
    "\n",
    "for a in m:\n",
    "    print(\"---------------------------TOPIC-START----------------------------\")\n",
    "    print(a.topic)\n",
    "    print(\"---------------------------TOPIC-END----------------------------\")\n",
    "    print(\"---------------------------PAYLOAD-START----------------------------\")\n",
    "    print(a.payload)\n",
    "\n",
    "\n",
    "    document = str(a.payload)\n",
    "    document = document[717:776] \n",
    "    #document = \"{\" + document + \"}\"\n",
    "    print(document)\n",
    "    dateAndTime = now.strftime(\"%Y/%m/%d, %H:%M:%S\")\n",
    "    print(dateAndTime)\n",
    "    \n",
    "    document = json.loads(document)\n",
    "    document[\"time\"] = str(dateAndTime)\n",
    "\n",
    "    fixed_dictionary = {\"Sensor address\": \"Addiva Test Sigurdsgatan\"}\n",
    "    fixed_dictionary.update(document)\n",
    "    \n",
    "\n",
    "    addDocumentToDatabase(\"testData\", \"sensordata\", fixed_dictionary)\n",
    "    print(\"---------------------------PAYLOAD-END----------------------------\")\n",
    "    #client.loop_stop() #stop the loop\n",
    "    print(fixed_dictionary)"
   ]
  },
  {
   "cell_type": "code",
   "execution_count": null,
   "metadata": {},
   "outputs": [],
   "source": []
  }
 ],
 "metadata": {
  "kernelspec": {
   "display_name": "Python 3.9.7 ('evn': venv)",
   "language": "python",
   "name": "python3"
  },
  "language_info": {
   "codemirror_mode": {
    "name": "ipython",
    "version": 3
   },
   "file_extension": ".py",
   "mimetype": "text/x-python",
   "name": "python",
   "nbconvert_exporter": "python",
   "pygments_lexer": "ipython3",
   "version": "3.9.7"
  },
  "orig_nbformat": 4,
  "vscode": {
   "interpreter": {
    "hash": "77d578b61719f71beca7a4c5842d04f99f0a25eafff2e324d8a7f07309cc5bcb"
   }
  }
 },
 "nbformat": 4,
 "nbformat_minor": 2
}
