{
 "cells": [
  {
   "cell_type": "code",
   "execution_count": 4,
   "metadata": {},
   "outputs": [],
   "source": [
    "import paho.mqtt.client as mqtt #import the client\n",
    "import paho.mqtt.subscribe as subscribe\n",
    "import time\n",
    "from datetime import datetime\n",
    "import json\n",
    "import pymongo\n",
    "\n",
    "from bson.objectid import ObjectId\n",
    "\n",
    "myclient = pymongo.MongoClient(\"mongodb://localhost:27017/\")\n",
    "\n",
    "\n",
    "#en funktion som adderar valt information till databasen\n",
    "def addDocumentToDatabase(databaseToAddTo:str, collectionToAddTo:str , documentToAddToDatabase:dict):\n",
    "    database = myclient[databaseToAddTo]\n",
    "    collection = database[collectionToAddTo]\n",
    "    collection.insert_one(documentToAddToDatabase)"
   ]
  },
  {
   "cell_type": "code",
   "execution_count": 5,
   "metadata": {},
   "outputs": [],
   "source": [
    "myclient = pymongo.MongoClient(\"mongodb://localhost:27017/\")\n",
    "\n",
    "mydb = myclient[\"testData\"]\n",
    "mycol = mydb[\"sensordata\"]\n",
    "\n",
    "m = subscribe.simple(topics=['#'], hostname=\"eu1.cloud.thethings.network\", port=1883, auth={'username':\"ap-addiva-01@ttn\",'password':\"NNSXS.GB7LQUCAHNXYDZ65KIS4FV2JDQYVJMYK42DBT2Q.CJ3VVVVKOPIYACEXK45WK6XPTL2QIGC6DIL6JZ2YK3OHLMAEEC7Q\"}, msg_count=2)"
   ]
  },
  {
   "cell_type": "code",
   "execution_count": 14,
   "metadata": {},
   "outputs": [
    {
     "name": "stdout",
     "output_type": "stream",
     "text": [
      "---------------------------TOPIC-START----------------------------\n",
      "v3/ap-addiva-01@ttn/devices/eui-a81758fffe075b66/up\n",
      "---------------------------TOPIC-END----------------------------\n",
      "---------------------------PAYLOAD-START----------------------------\n",
      "b'{\"end_device_ids\":{\"device_id\":\"eui-a81758fffe075b66\",\"application_ids\":{\"application_id\":\"ap-addiva-01\"},\"dev_eui\":\"A81758FFFE075B66\",\"join_eui\":\"0000000000000000\",\"dev_addr\":\"260B7CBF\"},\"correlation_ids\":[\"as:up:01GF35C70WHB663W92RNZAA7WW\",\"gs:conn:01GF2XM2S8HASP5HP6XSXFMQP4\",\"gs:up:host:01GF2XM2SGV45AGP0XYSWRXT0Z\",\"gs:uplink:01GF35C6T9XWXNTDFQ7M6XY24V\",\"ns:uplink:01GF35C6TA653G8FV3ARVV6T9J\",\"rpc:/ttn.lorawan.v3.GsNs/HandleUplink:01GF35C6T9JHWKT2BXA9Y46KKQ\",\"rpc:/ttn.lorawan.v3.NsAs/HandleUplink:01GF35C70V1WYTW7VXHVCEVTZ1\"],\"received_at\":\"2022-10-11T09:17:55.611684115Z\",\"uplink_message\":{\"session_key_id\":\"AYPB0ECOhnp1uMUPjFkrxw==\",\"f_port\":5,\"f_cnt\":1083,\"frm_payload\":\"AQDsAh8HDicSAA==\",\"decoded_payload\":{\"humidity\":31,\"temperature\":23.6,\"vdd\":3623,\"waterleak\":0},\"rx_metadata\":[{\"gateway_ids\":{\"gateway_id\":\"rg1xx2965f5\",\"eui\":\"C0EE40FFFF2965F5\"},\"time\":\"2022-10-11T09:17:55.355082035Z\",\"timestamp\":3834907979,\"rssi\":-63,\"channel_rssi\":-63,\"snr\":10.25,\"location\":{\"latitude\":59.605889553757784,\"longitude\":16.552834510803226,\"altitude\":10,\"source\":\"SOURCE_REGISTRY\"},\"uplink_token\":\"ChkKFwoLcmcxeHgyOTY1ZjUSCMDuQP//KWX1EMua0KQOGgwIw+mUmgYQnsibvwEg+NnPks7sAQ==\",\"received_at\":\"2022-10-11T09:17:55.379955496Z\"}],\"settings\":{\"data_rate\":{\"lora\":{\"bandwidth\":125000,\"spreading_factor\":7,\"coding_rate\":\"4/5\"}},\"frequency\":\"868100000\",\"timestamp\":3834907979,\"time\":\"2022-10-11T09:17:55.355082035Z\"},\"received_at\":\"2022-10-11T09:17:55.402250898Z\",\"confirmed\":true,\"consumed_airtime\":\"0.061696s\",\"locations\":{\"user\":{\"latitude\":59.60599410588323,\"longitude\":16.552834510803226,\"source\":\"SOURCE_REGISTRY\"}},\"version_ids\":{\"brand_id\":\"elsys\",\"model_id\":\"ems-lite\",\"hardware_version\":\"1.0\",\"firmware_version\":\"1.0\",\"band_id\":\"EU_863_870\"},\"network_ids\":{\"net_id\":\"000013\",\"tenant_id\":\"ttn\",\"cluster_id\":\"eu1\",\"cluster_address\":\"eu1.cloud.thethings.network\"}}}'\n",
      "{:{\"humidity\":31,\"temperature\":23.6,\"vdd\":3623,\"waterleak\":0}\n",
      "2022/10/11, 11:23:00\n"
     ]
    },
    {
     "ename": "JSONDecodeError",
     "evalue": "Expecting property name enclosed in double quotes: line 1 column 2 (char 1)",
     "output_type": "error",
     "traceback": [
      "\u001b[1;31m---------------------------------------------------------------------------\u001b[0m",
      "\u001b[1;31mJSONDecodeError\u001b[0m                           Traceback (most recent call last)",
      "Cell \u001b[1;32mIn [14], line 18\u001b[0m\n\u001b[0;32m     15\u001b[0m dateAndTime \u001b[39m=\u001b[39m now\u001b[39m.\u001b[39mstrftime(\u001b[39m\"\u001b[39m\u001b[39m%\u001b[39m\u001b[39mY/\u001b[39m\u001b[39m%\u001b[39m\u001b[39mm/\u001b[39m\u001b[39m%d\u001b[39;00m\u001b[39m, \u001b[39m\u001b[39m%\u001b[39m\u001b[39mH:\u001b[39m\u001b[39m%\u001b[39m\u001b[39mM:\u001b[39m\u001b[39m%\u001b[39m\u001b[39mS\u001b[39m\u001b[39m\"\u001b[39m)\n\u001b[0;32m     16\u001b[0m \u001b[39mprint\u001b[39m(dateAndTime)\n\u001b[1;32m---> 18\u001b[0m document \u001b[39m=\u001b[39m json\u001b[39m.\u001b[39;49mloads(document)\n\u001b[0;32m     19\u001b[0m document[\u001b[39m\"\u001b[39m\u001b[39mtime\u001b[39m\u001b[39m\"\u001b[39m] \u001b[39m=\u001b[39m \u001b[39mstr\u001b[39m(dateAndTime)\n\u001b[0;32m     21\u001b[0m fixed_dictionary \u001b[39m=\u001b[39m {\u001b[39m\"\u001b[39m\u001b[39mSensor address\u001b[39m\u001b[39m\"\u001b[39m: \u001b[39m\"\u001b[39m\u001b[39mAddiva Test Sigurdsgatan\u001b[39m\u001b[39m\"\u001b[39m}\n",
      "File \u001b[1;32m~\\AppData\\Local\\Programs\\Python\\Python39\\lib\\json\\__init__.py:346\u001b[0m, in \u001b[0;36mloads\u001b[1;34m(s, cls, object_hook, parse_float, parse_int, parse_constant, object_pairs_hook, **kw)\u001b[0m\n\u001b[0;32m    341\u001b[0m     s \u001b[39m=\u001b[39m s\u001b[39m.\u001b[39mdecode(detect_encoding(s), \u001b[39m'\u001b[39m\u001b[39msurrogatepass\u001b[39m\u001b[39m'\u001b[39m)\n\u001b[0;32m    343\u001b[0m \u001b[39mif\u001b[39;00m (\u001b[39mcls\u001b[39m \u001b[39mis\u001b[39;00m \u001b[39mNone\u001b[39;00m \u001b[39mand\u001b[39;00m object_hook \u001b[39mis\u001b[39;00m \u001b[39mNone\u001b[39;00m \u001b[39mand\u001b[39;00m\n\u001b[0;32m    344\u001b[0m         parse_int \u001b[39mis\u001b[39;00m \u001b[39mNone\u001b[39;00m \u001b[39mand\u001b[39;00m parse_float \u001b[39mis\u001b[39;00m \u001b[39mNone\u001b[39;00m \u001b[39mand\u001b[39;00m\n\u001b[0;32m    345\u001b[0m         parse_constant \u001b[39mis\u001b[39;00m \u001b[39mNone\u001b[39;00m \u001b[39mand\u001b[39;00m object_pairs_hook \u001b[39mis\u001b[39;00m \u001b[39mNone\u001b[39;00m \u001b[39mand\u001b[39;00m \u001b[39mnot\u001b[39;00m kw):\n\u001b[1;32m--> 346\u001b[0m     \u001b[39mreturn\u001b[39;00m _default_decoder\u001b[39m.\u001b[39;49mdecode(s)\n\u001b[0;32m    347\u001b[0m \u001b[39mif\u001b[39;00m \u001b[39mcls\u001b[39m \u001b[39mis\u001b[39;00m \u001b[39mNone\u001b[39;00m:\n\u001b[0;32m    348\u001b[0m     \u001b[39mcls\u001b[39m \u001b[39m=\u001b[39m JSONDecoder\n",
      "File \u001b[1;32m~\\AppData\\Local\\Programs\\Python\\Python39\\lib\\json\\decoder.py:337\u001b[0m, in \u001b[0;36mJSONDecoder.decode\u001b[1;34m(self, s, _w)\u001b[0m\n\u001b[0;32m    332\u001b[0m \u001b[39mdef\u001b[39;00m \u001b[39mdecode\u001b[39m(\u001b[39mself\u001b[39m, s, _w\u001b[39m=\u001b[39mWHITESPACE\u001b[39m.\u001b[39mmatch):\n\u001b[0;32m    333\u001b[0m     \u001b[39m\"\"\"Return the Python representation of ``s`` (a ``str`` instance\u001b[39;00m\n\u001b[0;32m    334\u001b[0m \u001b[39m    containing a JSON document).\u001b[39;00m\n\u001b[0;32m    335\u001b[0m \n\u001b[0;32m    336\u001b[0m \u001b[39m    \"\"\"\u001b[39;00m\n\u001b[1;32m--> 337\u001b[0m     obj, end \u001b[39m=\u001b[39m \u001b[39mself\u001b[39;49m\u001b[39m.\u001b[39;49mraw_decode(s, idx\u001b[39m=\u001b[39;49m_w(s, \u001b[39m0\u001b[39;49m)\u001b[39m.\u001b[39;49mend())\n\u001b[0;32m    338\u001b[0m     end \u001b[39m=\u001b[39m _w(s, end)\u001b[39m.\u001b[39mend()\n\u001b[0;32m    339\u001b[0m     \u001b[39mif\u001b[39;00m end \u001b[39m!=\u001b[39m \u001b[39mlen\u001b[39m(s):\n",
      "File \u001b[1;32m~\\AppData\\Local\\Programs\\Python\\Python39\\lib\\json\\decoder.py:353\u001b[0m, in \u001b[0;36mJSONDecoder.raw_decode\u001b[1;34m(self, s, idx)\u001b[0m\n\u001b[0;32m    344\u001b[0m \u001b[39m\"\"\"Decode a JSON document from ``s`` (a ``str`` beginning with\u001b[39;00m\n\u001b[0;32m    345\u001b[0m \u001b[39ma JSON document) and return a 2-tuple of the Python\u001b[39;00m\n\u001b[0;32m    346\u001b[0m \u001b[39mrepresentation and the index in ``s`` where the document ended.\u001b[39;00m\n\u001b[1;32m   (...)\u001b[0m\n\u001b[0;32m    350\u001b[0m \n\u001b[0;32m    351\u001b[0m \u001b[39m\"\"\"\u001b[39;00m\n\u001b[0;32m    352\u001b[0m \u001b[39mtry\u001b[39;00m:\n\u001b[1;32m--> 353\u001b[0m     obj, end \u001b[39m=\u001b[39m \u001b[39mself\u001b[39;49m\u001b[39m.\u001b[39;49mscan_once(s, idx)\n\u001b[0;32m    354\u001b[0m \u001b[39mexcept\u001b[39;00m \u001b[39mStopIteration\u001b[39;00m \u001b[39mas\u001b[39;00m err:\n\u001b[0;32m    355\u001b[0m     \u001b[39mraise\u001b[39;00m JSONDecodeError(\u001b[39m\"\u001b[39m\u001b[39mExpecting value\u001b[39m\u001b[39m\"\u001b[39m, s, err\u001b[39m.\u001b[39mvalue) \u001b[39mfrom\u001b[39;00m \u001b[39mNone\u001b[39m\n",
      "\u001b[1;31mJSONDecodeError\u001b[0m: Expecting property name enclosed in double quotes: line 1 column 2 (char 1)"
     ]
    }
   ],
   "source": [
    "now = datetime.now()\n",
    "\n",
    "for a in m:\n",
    "    print(\"---------------------------TOPIC-START----------------------------\")\n",
    "    print(a.topic)\n",
    "    print(\"---------------------------TOPIC-END----------------------------\")\n",
    "    print(\"---------------------------PAYLOAD-START----------------------------\")\n",
    "    print(a.payload)\n",
    "\n",
    "\n",
    "    document = str(a.payload)\n",
    "    document = document[717:776] \n",
    "    document = \"{\" + document + \"}\"\n",
    "    print(document)\n",
    "    dateAndTime = now.strftime(\"%Y/%m/%d, %H:%M:%S\")\n",
    "    print(dateAndTime)\n",
    "    \n",
    "    document = json.loads(document)\n",
    "    document[\"time\"] = str(dateAndTime)\n",
    "\n",
    "    fixed_dictionary = {\"Sensor address\": \"Addiva Test Sigurdsgatan\"}\n",
    "    fixed_dictionary.update(document)\n",
    "    \n",
    "\n",
    "    addDocumentToDatabase(\"testData\", \"sensordata\", fixed_dictionary)\n",
    "    print(\"---------------------------PAYLOAD-END----------------------------\")\n",
    "    #client.loop_stop() #stop the loop\n",
    "    print(fixed_dictionary)"
   ]
  },
  {
   "cell_type": "code",
   "execution_count": null,
   "metadata": {},
   "outputs": [],
   "source": []
  }
 ],
 "metadata": {
  "kernelspec": {
   "display_name": "Python 3.9.7 ('evn': venv)",
   "language": "python",
   "name": "python3"
  },
  "language_info": {
   "codemirror_mode": {
    "name": "ipython",
    "version": 3
   },
   "file_extension": ".py",
   "mimetype": "text/x-python",
   "name": "python",
   "nbconvert_exporter": "python",
   "pygments_lexer": "ipython3",
   "version": "3.9.7"
  },
  "orig_nbformat": 4,
  "vscode": {
   "interpreter": {
    "hash": "77d578b61719f71beca7a4c5842d04f99f0a25eafff2e324d8a7f07309cc5bcb"
   }
  }
 },
 "nbformat": 4,
 "nbformat_minor": 2
}
