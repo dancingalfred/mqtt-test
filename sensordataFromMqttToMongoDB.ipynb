{
 "cells": [
  {
   "cell_type": "code",
   "execution_count": 1,
   "metadata": {},
   "outputs": [],
   "source": [
    "import paho.mqtt.client as mqtt\n",
    "import paho.mqtt.subscribe as subscribe\n",
    "import time\n",
    "from datetime import datetime\n",
    "import json\n",
    "import pymongo\n",
    "from bson.objectid import ObjectId\n",
    "from functions import addDocumentToDatabase, convertPayloadToCorrectFormat\n",
    "\n",
    "#myclient = pymongo.MongoClient(\"mongodb://localhost:27017/\")\n",
    "\n",
    "\n",
    "#en funktion som adderar valt information till databasen\n",
    "# def addDocumentToDatabase(databaseToAddTo:str, collectionToAddTo:str , documentToAddToDatabase:dict):\n",
    "#     database = myclient[databaseToAddTo]\n",
    "#     collection = database[collectionToAddTo]\n",
    "#     collection.insert_one(documentToAddToDatabase)"
   ]
  },
  {
   "cell_type": "code",
   "execution_count": 6,
   "metadata": {},
   "outputs": [],
   "source": [
    "m = subscribe.simple(topics=['#'], hostname=\"eu1.cloud.thethings.network\", port=1883, auth={'username':\"ap-addiva-01@ttn\",'password':\"NNSXS.GB7LQUCAHNXYDZ65KIS4FV2JDQYVJMYK42DBT2Q.CJ3VVVVKOPIYACEXK45WK6XPTL2QIGC6DIL6JZ2YK3OHLMAEEC7Q\"}, msg_count=2)\n"
   ]
  },
  {
   "cell_type": "code",
   "execution_count": 7,
   "metadata": {},
   "outputs": [
    {
     "name": "stdout",
     "output_type": "stream",
     "text": [
      "b'{\"end_device_ids\":{\"device_id\":\"eui-a81758fffe075b66\",\"application_ids\":{\"application_id\":\"ap-addiva-01\"},\"dev_eui\":\"A81758FFFE075B66\",\"join_eui\":\"0000000000000000\",\"dev_addr\":\"260BA435\"},\"correlation_ids\":[\"as:up:01GF646AMMRE3B01N67X0SYHBV\",\"gs:conn:01GF5W1B3VKP09E7KHEJYVBDPB\",\"gs:up:host:01GF5W1B43XGH7GNA1HFAVH03M\",\"gs:uplink:01GF646AE0W5PNF8V8V0GERY66\",\"ns:uplink:01GF646AE1N10FNYYCYMBE2ZMS\",\"rpc:/ttn.lorawan.v3.GsNs/HandleUplink:01GF646AE1JQ1JNGT3Z1DKBXPX\",\"rpc:/ttn.lorawan.v3.NsAs/HandleUplink:01GF646AMKW7N19YXWG9CMEFCH\"],\"received_at\":\"2022-10-12T12:54:57.427581847Z\",\"uplink_message\":{\"session_key_id\":\"AYPL8LD8g5Ph+2i60hkr9Q==\",\"f_port\":5,\"f_cnt\":18,\"frm_payload\":\"AQDrAhgHDiwSAA==\",\"decoded_payload\":{\"humidity\":24,\"temperature\":23.5,\"vdd\":3628,\"waterleak\":0},\"rx_metadata\":[{\"gateway_ids\":{\"gateway_id\":\"rg1xx2965f5\",\"eui\":\"C0EE40FFFF2965F5\"},\"time\":\"2022-10-12T12:54:57.166640043Z\",\"timestamp\":4256083708,\"rssi\":-63,\"channel_rssi\":-63,\"snr\":8.75,\"location\":{\"latitude\":59.605889553757784,\"longitude\":16.552834510803226,\"altitude\":10,\"source\":\"SOURCE_REGISTRY\"},\"uplink_token\":\"ChkKFwoLcmcxeHgyOTY1ZjUSCMDuQP//KWX1EPzduu0PGgsIofKamgYQxdqsZyDgkO6S7/gB\",\"received_at\":\"2022-10-12T12:54:57.195629153Z\"}],\"settings\":{\"data_rate\":{\"lora\":{\"bandwidth\":125000,\"spreading_factor\":7,\"coding_rate\":\"4/5\"}},\"frequency\":\"867700000\",\"timestamp\":4256083708,\"time\":\"2022-10-12T12:54:57.166640043Z\"},\"received_at\":\"2022-10-12T12:54:57.217711063Z\",\"confirmed\":true,\"consumed_airtime\":\"0.061696s\",\"locations\":{\"user\":{\"latitude\":59.60599410588323,\"longitude\":16.552834510803226,\"source\":\"SOURCE_REGISTRY\"}},\"version_ids\":{\"brand_id\":\"elsys\",\"model_id\":\"ems-lite\",\"hardware_version\":\"1.0\",\"firmware_version\":\"1.0\",\"band_id\":\"EU_863_870\"},\"network_ids\":{\"net_id\":\"000013\",\"tenant_id\":\"ttn\",\"cluster_id\":\"eu1\",\"cluster_address\":\"eu1.cloud.thethings.network\"}}}'\n",
      "b'{\"end_device_ids\":{\"device_id\":\"eui-a81758fffe034f66\",\"application_ids\":{\"application_id\":\"ap-addiva-01\"},\"dev_eui\":\"A81758FFFE034F66\",\"join_eui\":\"0000000000000000\",\"dev_addr\":\"260BDC6A\"},\"correlation_ids\":[\"as:up:01GF6479S15FPDG46FM20ACD1R\",\"gs:conn:01GF5W1B3VKP09E7KHEJYVBDPB\",\"gs:up:host:01GF5W1B43XGH7GNA1HFAVH03M\",\"gs:uplink:01GF6479JM16EB7SCK1CB1N1SN\",\"ns:uplink:01GF6479JMCW1APXEXF3VA79YT\",\"rpc:/ttn.lorawan.v3.GsNs/HandleUplink:01GF6479JM0W9Q089Z6YAVGMCS\",\"rpc:/ttn.lorawan.v3.NsAs/HandleUplink:01GF6479S1QXVH2E9KJA8EZB3T\"],\"received_at\":\"2022-10-12T12:55:29.313154205Z\",\"uplink_message\":{\"session_key_id\":\"AYPMQnjPGfFZWssR3vrqJA==\",\"f_port\":5,\"f_cnt\":1,\"frm_payload\":\"AQEBAhgEAIoFAAcOCT0GAQAA\",\"decoded_payload\":{\"humidity\":24,\"light\":138,\"motion\":0,\"temperature\":25.7,\"vdd\":3593},\"rx_metadata\":[{\"gateway_ids\":{\"gateway_id\":\"rg1xx2965f5\",\"eui\":\"C0EE40FFFF2965F5\"},\"time\":\"2022-10-12T12:55:29.057674884Z\",\"timestamp\":4287944484,\"rssi\":-54,\"channel_rssi\":-54,\"snr\":7.75,\"location\":{\"latitude\":59.605889553757784,\"longitude\":16.552834510803226,\"altitude\":10,\"source\":\"SOURCE_REGISTRY\"},\"uplink_token\":\"ChkKFwoLcmcxeHgyOTY1ZjUSCMDuQP//KWX1EKSu0/wPGgsIwfKamgYQnOPDMyCgyaHr5fkB\",\"received_at\":\"2022-10-12T12:55:29.086954468Z\"}],\"settings\":{\"data_rate\":{\"lora\":{\"bandwidth\":125000,\"spreading_factor\":12,\"coding_rate\":\"4/5\"}},\"frequency\":\"868500000\",\"timestamp\":4287944484,\"time\":\"2022-10-12T12:55:29.057674884Z\"},\"received_at\":\"2022-10-12T12:55:29.108828056Z\",\"confirmed\":true,\"consumed_airtime\":\"1.810432s\",\"version_ids\":{\"brand_id\":\"elsys\",\"model_id\":\"ers\",\"hardware_version\":\"1.0\",\"firmware_version\":\"1.0\",\"band_id\":\"EU_863_870\"},\"network_ids\":{\"net_id\":\"000013\",\"tenant_id\":\"ttn\",\"cluster_id\":\"eu1\",\"cluster_address\":\"eu1.cloud.thethings.network\"}}}'\n"
     ]
    }
   ],
   "source": [
    "for a in m:\n",
    "    print(a.payload)"
   ]
  },
  {
   "cell_type": "code",
   "execution_count": 27,
   "metadata": {},
   "outputs": [],
   "source": [
    "# now = datetime.now()\n",
    "def convertPayloadToCorrectFormat1(inData) -> dict:\n",
    "    document = {}\n",
    "    now = datetime.now()\n",
    "    dateAndTime = now.strftime(\"%Y/%m/%d, %H:%M:%S\")\n",
    "    sensorData = inData[2:-1]\n",
    "    sensorDataToDict = json.loads(sensorData)\n",
    "    payloadLvl1 = sensorDataToDict[\"uplink_message\"]\n",
    "    payloadLvl2 = payloadLvl1[\"decoded_payload\"]\n",
    "    idLvl1 = sensorDataToDict[\"end_device_ids\"]\n",
    "    idLvl2 = idLvl1[\"device_id\"]\n",
    "    document[\"sensor_id\"] = str(idLvl2)\n",
    "    document.update(payloadLvl2)\n",
    "    document[\"time\"] = str(dateAndTime)\n",
    "\n",
    "    if idLvl2 == \"eui-a81758fffe075b66\":\n",
    "        fixed_document = {\"Sensor address\": \"Skrivbord Addiva Sigurdsgatan\"}\n",
    "        fixed_document.update(document)\n",
    "    elif idLvl2 == \"eui-a81758fffe075b65\":\n",
    "        fixed_document = {\"Sensor address\": \"Pingisrum Addiva Sigurdsgatan\"}\n",
    "        fixed_document.update(document)\n",
    "    elif idLvl2 == \"eui-a81758fffe075c91\":\n",
    "        fixed_document = {\"Sensor address\": \"Matsal Addiva Sigurdsgatan\"}\n",
    "        fixed_document.update(document)\n",
    "    return fixed_document\n",
    "\n",
    "\n",
    "for a in m:\n",
    "    fixed_dictionary = convertPayloadToCorrectFormat1(str(a.payload))\n",
    "    addDocumentToDatabase(\"test_vecka_2_Data\", \"sensordata\", fixed_dictionary)\n",
    "    # print(\"---------------------------TOPIC-START----------------------------\")\n",
    "    # print(a.topic)\n",
    "    # print(\"---------------------------TOPIC-END----------------------------\")\n",
    "    # print(\"---------------------------PAYLOAD-START----------------------------\")\n",
    "    # print(a.payload)\n",
    "# def addDocumentToDatabase(databaseToAddTo:str, collectionToAddTo:str , documentToAddToDatabase:dict):\n",
    "\n",
    "    # document = str(a.payload)\n",
    "    # document = document[717:776] \n",
    "    # document = \"{\" + document + \"}\"\n",
    "    # print(document)\n",
    "    # dateAndTime = now.strftime(\"%Y/%m/%d, %H:%M:%S\")\n",
    "    # print(dateAndTime)\n",
    "    \n",
    "    # document = json.loads(document)\n",
    "    # document[\"time\"] = str(dateAndTime)\n",
    "\n",
    "    # fixed_dictionary = {\"Sensor address\": \"Addiva Test Sigurdsgatan\"}\n",
    "    # fixed_dictionary.update(document)\n",
    "    \n",
    "\n",
    "    # addDocumentToDatabase(\"testData\", \"sensordata\", fixed_dictionary)\n",
    "    # print(\"---------------------------PAYLOAD-END----------------------------\")\n",
    "    # #client.loop_stop() #stop the loop\n",
    "    # print(fixed_dictionary)"
   ]
  },
  {
   "cell_type": "code",
   "execution_count": 16,
   "metadata": {},
   "outputs": [],
   "source": [
    "from functions import removeDocumentById\n",
    "removeDocumentById(\"testData\", \"sensordata\" ,\"6344695eb42d5f4d999a9d4b\", True)"
   ]
  },
  {
   "cell_type": "code",
   "execution_count": null,
   "metadata": {},
   "outputs": [],
   "source": []
  }
 ],
 "metadata": {
  "kernelspec": {
   "display_name": "Python 3.9.7 ('evn': venv)",
   "language": "python",
   "name": "python3"
  },
  "language_info": {
   "codemirror_mode": {
    "name": "ipython",
    "version": 3
   },
   "file_extension": ".py",
   "mimetype": "text/x-python",
   "name": "python",
   "nbconvert_exporter": "python",
   "pygments_lexer": "ipython3",
   "version": "3.9.7"
  },
  "orig_nbformat": 4,
  "vscode": {
   "interpreter": {
    "hash": "77d578b61719f71beca7a4c5842d04f99f0a25eafff2e324d8a7f07309cc5bcb"
   }
  }
 },
 "nbformat": 4,
 "nbformat_minor": 2
}
