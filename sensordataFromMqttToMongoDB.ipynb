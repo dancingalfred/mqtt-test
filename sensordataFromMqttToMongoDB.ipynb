{
 "cells": [
  {
   "cell_type": "code",
   "execution_count": 8,
   "metadata": {},
   "outputs": [],
   "source": [
    "import paho.mqtt.client as mqtt\n",
    "import paho.mqtt.subscribe as subscribe\n",
    "import time\n",
    "from datetime import datetime\n",
    "import json\n",
    "import pymongo\n",
    "from bson.objectid import ObjectId\n",
    "from functions import addDocumentToDatabase, convertPayloadToCorrectFormat\n",
    "\n",
    "#myclient = pymongo.MongoClient(\"mongodb://localhost:27017/\")\n",
    "\n",
    "\n",
    "#en funktion som adderar valt information till databasen\n",
    "# def addDocumentToDatabase(databaseToAddTo:str, collectionToAddTo:str , documentToAddToDatabase:dict):\n",
    "#     database = myclient[databaseToAddTo]\n",
    "#     collection = database[collectionToAddTo]\n",
    "#     collection.insert_one(documentToAddToDatabase)"
   ]
  },
  {
   "cell_type": "code",
   "execution_count": 9,
   "metadata": {},
   "outputs": [],
   "source": [
    "# myclient = pymongo.MongoClient(\"mongodb://localhost:27017/\")\n",
    "\n",
    "# mydb = myclient[\"testData\"]\n",
    "# mycol = mydb[\"sensordata\"]\n",
    "\n",
    "m = subscribe.simple(topics=['#'], hostname=\"eu1.cloud.thethings.network\", port=1883, auth={'username':\"ap-addiva-01@ttn\",'password':\"NNSXS.GB7LQUCAHNXYDZ65KIS4FV2JDQYVJMYK42DBT2Q.CJ3VVVVKOPIYACEXK45WK6XPTL2QIGC6DIL6JZ2YK3OHLMAEEC7Q\"}, msg_count=2)"
   ]
  },
  {
   "cell_type": "code",
   "execution_count": 13,
   "metadata": {},
   "outputs": [],
   "source": [
    "# now = datetime.now()\n",
    "def convertPayloadToCorrectFormat1(inData) -> dict:\n",
    "    document = {}\n",
    "    now = datetime.now()\n",
    "    dateAndTime = now.strftime(\"%Y/%m/%d, %H:%M:%S\")\n",
    "    sensorData = inData[2:-1]\n",
    "    sensorDataToDict = json.loads(sensorData)\n",
    "    payloadLvl1 = sensorDataToDict[\"uplink_message\"]\n",
    "    payloadLvl2 = payloadLvl1[\"decoded_payload\"]\n",
    "    idLvl1 = sensorDataToDict[\"end_device_ids\"]\n",
    "    idLvl2 = idLvl1[\"device_id\"]\n",
    "    document[\"sensor_id\"] = str(idLvl2)\n",
    "    document.update(payloadLvl2)\n",
    "    document[\"time\"] = str(dateAndTime)\n",
    "\n",
    "    if idLvl2 == \"eui-a81758fffe075b66\":\n",
    "        fixed_document = {\"Sensor address\": \"Skrivbord Addiva Sigurdsgatan\"}\n",
    "        fixed_document.update(document)\n",
    "    elif idLvl2 == \"eui-a81758fffe075b65\":\n",
    "        fixed_document = {\"Sensor address\": \"Pingisrum Addiva Sigurdsgatan\"}\n",
    "        fixed_document.update(document)\n",
    "    elif idLvl2 == \"eui-a81758fffe075c91\":\n",
    "        fixed_document = {\"Sensor address\": \"Matsal Addiva Sigurdsgatan\"}\n",
    "        fixed_document.update(document)\n",
    "    return fixed_document\n",
    "\n",
    "\n",
    "for a in m:\n",
    "    fixed_dictionary = convertPayloadToCorrectFormat1(str(a.payload))\n",
    "    addDocumentToDatabase(\"test_vecka_2_Data\", \"sensordata\", fixed_dictionary)\n",
    "    # print(\"---------------------------TOPIC-START----------------------------\")\n",
    "    # print(a.topic)\n",
    "    # print(\"---------------------------TOPIC-END----------------------------\")\n",
    "    # print(\"---------------------------PAYLOAD-START----------------------------\")\n",
    "    # print(a.payload)\n",
    "# def addDocumentToDatabase(databaseToAddTo:str, collectionToAddTo:str , documentToAddToDatabase:dict):\n",
    "\n",
    "    # document = str(a.payload)\n",
    "    # document = document[717:776] \n",
    "    # document = \"{\" + document + \"}\"\n",
    "    # print(document)\n",
    "    # dateAndTime = now.strftime(\"%Y/%m/%d, %H:%M:%S\")\n",
    "    # print(dateAndTime)\n",
    "    \n",
    "    # document = json.loads(document)\n",
    "    # document[\"time\"] = str(dateAndTime)\n",
    "\n",
    "    # fixed_dictionary = {\"Sensor address\": \"Addiva Test Sigurdsgatan\"}\n",
    "    # fixed_dictionary.update(document)\n",
    "    \n",
    "\n",
    "    # addDocumentToDatabase(\"testData\", \"sensordata\", fixed_dictionary)\n",
    "    # print(\"---------------------------PAYLOAD-END----------------------------\")\n",
    "    # #client.loop_stop() #stop the loop\n",
    "    # print(fixed_dictionary)"
   ]
  },
  {
   "cell_type": "code",
   "execution_count": 16,
   "metadata": {},
   "outputs": [],
   "source": [
    "from functions import removeDocumentById\n",
    "removeDocumentById(\"testData\", \"sensordata\" ,\"6344695eb42d5f4d999a9d4b\", True)"
   ]
  },
  {
   "cell_type": "code",
   "execution_count": null,
   "metadata": {},
   "outputs": [],
   "source": []
  }
 ],
 "metadata": {
  "kernelspec": {
   "display_name": "Python 3.9.7 ('evn': venv)",
   "language": "python",
   "name": "python3"
  },
  "language_info": {
   "codemirror_mode": {
    "name": "ipython",
    "version": 3
   },
   "file_extension": ".py",
   "mimetype": "text/x-python",
   "name": "python",
   "nbconvert_exporter": "python",
   "pygments_lexer": "ipython3",
   "version": "3.9.7"
  },
  "orig_nbformat": 4,
  "vscode": {
   "interpreter": {
    "hash": "77d578b61719f71beca7a4c5842d04f99f0a25eafff2e324d8a7f07309cc5bcb"
   }
  }
 },
 "nbformat": 4,
 "nbformat_minor": 2
}
